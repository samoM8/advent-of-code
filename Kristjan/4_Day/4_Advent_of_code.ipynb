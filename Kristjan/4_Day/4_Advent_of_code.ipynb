{
 "cells": [
  {
   "cell_type": "markdown",
   "id": "412ce2d0",
   "metadata": {},
   "source": [
    "# 4. Naloga"
   ]
  },
  {
   "cell_type": "code",
   "execution_count": 29,
   "id": "070f41e1",
   "metadata": {},
   "outputs": [
    {
     "name": "stdout",
     "output_type": "stream",
     "text": [
      "550\n"
     ]
    }
   ],
   "source": [
    "#Zapisovanje txt v array\n",
    "with open('input.txt') as f:\n",
    "    mylist = f.read().splitlines()\n",
    "    \n",
    "sum_of_ranges = 0\n",
    "skip = 0\n",
    "    \n",
    "for line in mylist:\n",
    "    opravila = line.split(\",\")\n",
    "    left = opravila[0]\n",
    "    right = opravila[1]\n",
    "    skip = 0\n",
    "    \n",
    "    spl_left = left.split(\"-\")\n",
    "    spl_right = right.split(\"-\")\n",
    "    \n",
    "    #Preverjanje intervala left\n",
    "    if (int(spl_left[0]) <= int(spl_right[0])):\n",
    "        if(int(spl_left[1]) >= int(spl_right[1])):\n",
    "            sum_of_ranges += 1\n",
    "            skip = 1\n",
    "            \n",
    "   #Preverjanje intervala right\n",
    "    if (int(spl_left[0]) >= int(spl_right[0]) and skip != 1):\n",
    "        if(int(spl_left[1]) <= int(spl_right[1])):\n",
    "            sum_of_ranges += 1\n",
    "            skip = 1\n",
    "        \n",
    "    \n",
    "        \n",
    "print(sum_of_ranges)"
   ]
  },
  {
   "cell_type": "code",
   "execution_count": 37,
   "id": "b0c54ff0",
   "metadata": {},
   "outputs": [
    {
     "name": "stdout",
     "output_type": "stream",
     "text": [
      "931\n"
     ]
    }
   ],
   "source": [
    "#Zapisovanje txt v array\n",
    "with open('input.txt') as f:\n",
    "    mylist = f.read().splitlines()\n",
    "sum_of_ranges = 0\n",
    "skip = 0\n",
    "    \n",
    "for line in mylist:\n",
    "    opravila = line.split(\",\")\n",
    "    left = opravila[0]\n",
    "    right = opravila[1]\n",
    "    skip = 0\n",
    "    \n",
    "    spl_left = left.split(\"-\")\n",
    "    spl_right = right.split(\"-\")\n",
    "    \n",
    "    if(int(spl_left[1]) < int(spl_right[0])):\n",
    "        pass\n",
    "    elif(int(spl_left[0]) > int(spl_right[1])):\n",
    "        pass\n",
    "    else:\n",
    "        sum_of_ranges +=1\n",
    "print(sum_of_ranges)"
   ]
  },
  {
   "cell_type": "code",
   "execution_count": null,
   "id": "265014c4",
   "metadata": {},
   "outputs": [],
   "source": []
  }
 ],
 "metadata": {
  "kernelspec": {
   "display_name": "Python 3 (ipykernel)",
   "language": "python",
   "name": "python3"
  },
  "language_info": {
   "codemirror_mode": {
    "name": "ipython",
    "version": 3
   },
   "file_extension": ".py",
   "mimetype": "text/x-python",
   "name": "python",
   "nbconvert_exporter": "python",
   "pygments_lexer": "ipython3",
   "version": "3.9.12"
  }
 },
 "nbformat": 4,
 "nbformat_minor": 5
}
