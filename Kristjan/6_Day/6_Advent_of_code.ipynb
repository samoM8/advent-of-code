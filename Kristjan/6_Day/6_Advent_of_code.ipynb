{
 "cells": [
  {
   "cell_type": "markdown",
   "id": "83b76f0d",
   "metadata": {},
   "source": [
    "# 6. Naloga"
   ]
  },
  {
   "cell_type": "markdown",
   "id": "294e57c5",
   "metadata": {},
   "source": [
    "## 1. Del"
   ]
  },
  {
   "cell_type": "code",
   "execution_count": 9,
   "id": "54e2ddbd",
   "metadata": {},
   "outputs": [
    {
     "name": "stdout",
     "output_type": "stream",
     "text": [
      "Število pregledanih chr je  1034\n",
      "gbpl\n"
     ]
    }
   ],
   "source": [
    "#open text file in read mode and write it into one long string\n",
    "text_file = open(\"input.txt\")\n",
    "data = text_file.read()\n",
    "text_file.close()\n",
    "\n",
    "chr_read = 0;\n",
    "marker = \"\"\n",
    "first = True\n",
    "for i in range(len(data)-4):\n",
    "    marker = \"\"\n",
    "    for j in range(4):\n",
    "        \n",
    "        if data[i+j] in marker:\n",
    "            break\n",
    "        marker += data[i+j]\n",
    "    \n",
    "    if (len(marker) == 4):\n",
    "        print(\"Število pregledanih chr je \",i+4,)\n",
    "        print(marker)\n",
    "        break\n",
    "        \n",
    "    \n",
    "    \n",
    "    "
   ]
  },
  {
   "cell_type": "markdown",
   "id": "1d9d9786",
   "metadata": {},
   "source": [
    "## 2. Del"
   ]
  },
  {
   "cell_type": "code",
   "execution_count": 10,
   "id": "2b9a0544",
   "metadata": {},
   "outputs": [
    {
     "name": "stdout",
     "output_type": "stream",
     "text": [
      "Število pregledanih chr je  2472\n",
      "hqnmwsjbtcgvrl\n"
     ]
    }
   ],
   "source": [
    "chr_read = 0;\n",
    "marker = \"\"\n",
    "first = True\n",
    "for i in range(len(data)-14):\n",
    "    marker = \"\"\n",
    "    for j in range(14):\n",
    "        \n",
    "        if data[i+j] in marker:\n",
    "            break\n",
    "        marker += data[i+j]\n",
    "    \n",
    "    if (len(marker) == 14):\n",
    "        print(\"Število pregledanih chr je \",i+14,)\n",
    "        print(marker)\n",
    "        break\n",
    "        "
   ]
  },
  {
   "cell_type": "code",
   "execution_count": null,
   "id": "6cb586ee",
   "metadata": {},
   "outputs": [],
   "source": []
  }
 ],
 "metadata": {
  "kernelspec": {
   "display_name": "Python 3 (ipykernel)",
   "language": "python",
   "name": "python3"
  },
  "language_info": {
   "codemirror_mode": {
    "name": "ipython",
    "version": 3
   },
   "file_extension": ".py",
   "mimetype": "text/x-python",
   "name": "python",
   "nbconvert_exporter": "python",
   "pygments_lexer": "ipython3",
   "version": "3.9.12"
  }
 },
 "nbformat": 4,
 "nbformat_minor": 5
}
