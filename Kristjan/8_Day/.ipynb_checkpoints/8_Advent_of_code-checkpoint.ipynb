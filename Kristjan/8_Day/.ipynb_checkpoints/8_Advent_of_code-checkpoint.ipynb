{
 "cells": [
  {
   "cell_type": "markdown",
   "id": "311fa4c9",
   "metadata": {},
   "source": [
    "# 8. Naloga"
   ]
  },
  {
   "cell_type": "code",
   "execution_count": 8,
   "id": "87e77139",
   "metadata": {},
   "outputs": [],
   "source": [
    "import sys\n",
    "import numpy as np\n",
    "np.set_printoptions(threshold=sys.maxsize)"
   ]
  },
  {
   "cell_type": "markdown",
   "id": "79dd587c",
   "metadata": {},
   "source": [
    "## 1. Del"
   ]
  },
  {
   "cell_type": "code",
   "execution_count": 96,
   "id": "cc86cfd7",
   "metadata": {},
   "outputs": [
    {
     "name": "stdout",
     "output_type": "stream",
     "text": [
      "(99, 99)\n"
     ]
    }
   ],
   "source": [
    "#Zapisovanje txt v array\n",
    "with open('input.txt') as f:\n",
    "    mylist = f.read().splitlines()\n",
    "\n",
    "#Creating 2D map for searching the visability of the threes\n",
    "mapp = np.zeros((len(mylist),len(mylist[0])))\n",
    "\n",
    "print((len(mylist),len(mylist[0])))\n",
    "\n",
    "#Filling the 2D map\n",
    "for i in range(len(mylist)):\n",
    "    for j in range(len(mylist[i])):\n",
    "        mapp[i][j] = int(mylist[i][j])"
   ]
  },
  {
   "cell_type": "markdown",
   "id": "9d7812b2",
   "metadata": {},
   "source": [
    "Za vsak element posebej poglej če je viden ali ne\n",
    "\n",
    "Pri tem bomo gledali le notranje elemente, saj so zunanji vedno vidni"
   ]
  },
  {
   "cell_type": "code",
   "execution_count": 97,
   "id": "134faaad",
   "metadata": {},
   "outputs": [
    {
     "name": "stdout",
     "output_type": "stream",
     "text": [
      "Število vidnih dreves je: 1711\n"
     ]
    }
   ],
   "source": [
    "#Za vsak element v 2D map\n",
    "count = 0\n",
    "vidnost = True\n",
    "for i in range(1,(len(mapp)-1),1):\n",
    "    for j in range(1,(len(mapp)-1),1):\n",
    "        tree = mapp[i][j]\n",
    "        \n",
    "        #Check from every side if the tree is visible\n",
    "        #Leva stran\n",
    "        for k in range(j-1,-1,-1):\n",
    "            if(tree <= mapp[i][k]):\n",
    "                vidnost = False\n",
    "                break\n",
    "            else:\n",
    "                vidnost = True \n",
    "        \n",
    "        #Desna stran\n",
    "        if(vidnost == False):\n",
    "            for k in range(j+1,len(mapp),1):\n",
    "                if(tree <= mapp[i][k]):\n",
    "                    vidnost = False\n",
    "                    break\n",
    "                else:\n",
    "                    vidnost = True\n",
    "        \n",
    "        #Zgoraj stran\n",
    "        if(vidnost == False):\n",
    "            for k in range(0,i,1):\n",
    "                if(tree <= mapp[k][j]):\n",
    "                    vidnost = False\n",
    "                    break\n",
    "                else:\n",
    "                    vidnost = True\n",
    "                    \n",
    "        #Spodaj stran\n",
    "        if(vidnost == False):\n",
    "            for k in range(i+1,len(mapp),1):\n",
    "                if(tree <= mapp[k][j]):\n",
    "                    vidnost = False\n",
    "                    break\n",
    "                else:\n",
    "                    vidnost = True\n",
    "                    \n",
    "                \n",
    "        if(vidnost == False):\n",
    "            count += 1\n",
    "            \n",
    "print(\"Število vidnih dreves je:\",-count + len(mapp)**2)\n",
    "        "
   ]
  },
  {
   "cell_type": "markdown",
   "id": "c5d6a450",
   "metadata": {},
   "source": [
    "## 2. Del"
   ]
  },
  {
   "cell_type": "code",
   "execution_count": 90,
   "id": "ba2c8868",
   "metadata": {},
   "outputs": [],
   "source": [
    "mapp=[[3,0,3,7,3],\n",
    "[2,5,5,1,2],\n",
    "[6,5,3,3,2],\n",
    "[3,3,5,4,9],\n",
    "[3,5,3,9,0]]"
   ]
  },
  {
   "cell_type": "code",
   "execution_count": 100,
   "id": "44ec1c04",
   "metadata": {},
   "outputs": [
    {
     "name": "stdout",
     "output_type": "stream",
     "text": [
      "301392\n"
     ]
    }
   ],
   "source": [
    "#Za vsak element v 2D map\n",
    "maxx = 0\n",
    "\n",
    "left = 0\n",
    "right = 0\n",
    "top = 0\n",
    "bottom = 0\n",
    "\n",
    "for i in range(1,(len(mapp)-1),1):\n",
    "    for j in range(1,(len(mapp)-1),1):\n",
    "        tree = mapp[i][j]\n",
    "        left = 0\n",
    "        right = 0\n",
    "        top = 0\n",
    "        bottom = 0\n",
    "        \n",
    "        #Check from every side if the tree is visible\n",
    "        #Leva stran\n",
    "        for k in range(j-1,-1,-1):\n",
    "            #Če je drevo nižje ali enako --> break loop\n",
    "            if(tree <= mapp[i][k]):\n",
    "                left += 1\n",
    "                break\n",
    "            else:\n",
    "                left += 1\n",
    "        \n",
    "        #Desna stran\n",
    "        for k in range(j+1,len(mapp),1):\n",
    "            if(tree <= mapp[i][k]):\n",
    "                right += 1\n",
    "                break\n",
    "            else:\n",
    "                right += 1\n",
    "        \n",
    "        #Zgoraj stran\n",
    "        for k in range(i-1,-1,-1):\n",
    "            if(tree <= mapp[k][j]):\n",
    "                top += 1\n",
    "                break\n",
    "            else:\n",
    "                top += 1  \n",
    "                    \n",
    "        #Spodaj stran\n",
    "        for k in range(i+1,len(mapp),1):\n",
    "            if(tree <= mapp[k][j]):\n",
    "                bottom += 1\n",
    "                break\n",
    "            else:\n",
    "                bottom += 1\n",
    "        \n",
    "        if(left*right*top*bottom > maxx):\n",
    "            maxx = left*right*top*bottom\n",
    "            \n",
    "print(maxx)\n",
    "            \n",
    "            \n",
    "            \n",
    "                    \n",
    "                \n",
    "\n",
    "        "
   ]
  },
  {
   "cell_type": "code",
   "execution_count": null,
   "id": "0ed0e600",
   "metadata": {},
   "outputs": [],
   "source": []
  }
 ],
 "metadata": {
  "kernelspec": {
   "display_name": "Python 3 (ipykernel)",
   "language": "python",
   "name": "python3"
  },
  "language_info": {
   "codemirror_mode": {
    "name": "ipython",
    "version": 3
   },
   "file_extension": ".py",
   "mimetype": "text/x-python",
   "name": "python",
   "nbconvert_exporter": "python",
   "pygments_lexer": "ipython3",
   "version": "3.9.12"
  }
 },
 "nbformat": 4,
 "nbformat_minor": 5
}
