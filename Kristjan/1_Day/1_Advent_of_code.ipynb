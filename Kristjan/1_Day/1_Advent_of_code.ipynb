{
 "cells": [
  {
   "cell_type": "markdown",
   "id": "da7abc3d",
   "metadata": {},
   "source": [
    "# 1. Naloga"
   ]
  },
  {
   "cell_type": "markdown",
   "id": "9cb1b939",
   "metadata": {},
   "source": [
    "## 1. del"
   ]
  },
  {
   "cell_type": "code",
   "execution_count": 24,
   "id": "060f2a4b",
   "metadata": {},
   "outputs": [
    {
     "name": "stdout",
     "output_type": "stream",
     "text": [
      "68467\n"
     ]
    }
   ],
   "source": [
    "#Zapisovanje txt v array\n",
    "with open('input.txt') as f:\n",
    "    mylist = f.read().splitlines()\n",
    "max_cal = 0\n",
    "sum_cal = 0\n",
    "    \n",
    "for i in mylist:\n",
    "    if(i==''):\n",
    "        if(sum_cal > max_cal):\n",
    "            max_cal = sum_cal\n",
    "        sum_cal = 0\n",
    "    else:\n",
    "        sum_cal += int(i)\n",
    "        \n",
    "print(max_cal) "
   ]
  },
  {
   "cell_type": "markdown",
   "id": "79383cd0",
   "metadata": {},
   "source": [
    "## 2.del"
   ]
  },
  {
   "cell_type": "code",
   "execution_count": 34,
   "id": "f651e506",
   "metadata": {},
   "outputs": [
    {
     "name": "stdout",
     "output_type": "stream",
     "text": [
      "203420\n"
     ]
    }
   ],
   "source": [
    "#Zapisovanje txt v array\n",
    "with open('input.txt') as f:\n",
    "    mylist = f.read().splitlines()\n",
    "    \n",
    "\n",
    "list_of_sum = []\n",
    "    \n",
    "for i in mylist:\n",
    "    if(i==''):\n",
    "        list_of_sum.append(sum_cal)\n",
    "        sum_cal = 0\n",
    "    else:\n",
    "        sum_cal += int(i)\n",
    "        \n",
    "list_of_sum.sort(reverse=True)\n",
    "print(list_of_sum[1]+list_of_sum[2]+list_of_sum[3])"
   ]
  },
  {
   "cell_type": "code",
   "execution_count": null,
   "id": "2fcb60ce",
   "metadata": {},
   "outputs": [],
   "source": []
  }
 ],
 "metadata": {
  "kernelspec": {
   "display_name": "Python 3 (ipykernel)",
   "language": "python",
   "name": "python3"
  },
  "language_info": {
   "codemirror_mode": {
    "name": "ipython",
    "version": 3
   },
   "file_extension": ".py",
   "mimetype": "text/x-python",
   "name": "python",
   "nbconvert_exporter": "python",
   "pygments_lexer": "ipython3",
   "version": "3.9.12"
  }
 },
 "nbformat": 4,
 "nbformat_minor": 5
}
