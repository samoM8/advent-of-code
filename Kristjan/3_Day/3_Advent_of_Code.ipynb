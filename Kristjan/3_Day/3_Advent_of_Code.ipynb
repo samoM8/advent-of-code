{
 "cells": [
  {
   "cell_type": "markdown",
   "id": "8113620c",
   "metadata": {},
   "source": [
    "# 3_Naloga"
   ]
  },
  {
   "cell_type": "markdown",
   "id": "c6f4b3c7",
   "metadata": {},
   "source": [
    "## 1.del"
   ]
  },
  {
   "cell_type": "code",
   "execution_count": 17,
   "id": "e987b2a3",
   "metadata": {},
   "outputs": [
    {
     "name": "stdout",
     "output_type": "stream",
     "text": [
      "8088\n"
     ]
    }
   ],
   "source": [
    "#Zapisovanje txt v array\n",
    "with open('input.txt') as f:\n",
    "    listt = f.read().splitlines()\n",
    "\n",
    "sum_crke = 0\n",
    "#Going trough the list\n",
    "for i in listt:\n",
    "    #Razpolovim line na polovico\n",
    "    half1 = i[:int(len(i)/2)]\n",
    "    half2 =i[int(len(i)/2):]\n",
    "    \n",
    "    for j in half1:\n",
    "        if j in half2:\n",
    "            crka = j\n",
    "            break\n",
    "            \n",
    "    if(ord(crka) > 90):\n",
    "        #mala crka\n",
    "        sum_crke += ord(crka) - 96\n",
    "    else:\n",
    "        sum_crke += ord(crka) - 38\n",
    "        \n",
    "print(sum_crke)\n",
    "    \n"
   ]
  },
  {
   "cell_type": "markdown",
   "id": "5bb071b0",
   "metadata": {},
   "source": [
    "## 2.del"
   ]
  },
  {
   "cell_type": "code",
   "execution_count": 30,
   "id": "8c869eb1",
   "metadata": {},
   "outputs": [
    {
     "name": "stdout",
     "output_type": "stream",
     "text": [
      "2522\n"
     ]
    }
   ],
   "source": [
    "sum_crke = 0\n",
    "#Going trough the list\n",
    "for i in range(0,len(listt), 3):\n",
    "    #Razpolovim line na polovico\n",
    "    word1 = listt[i]\n",
    "    word2 = listt[i+1]\n",
    "    word3 = listt[i+2]\n",
    "    \n",
    "    for j in word1:\n",
    "        if j in word2 and j in word3:\n",
    "            crka = j\n",
    "            break\n",
    "            \n",
    "    if(ord(crka) > 90):\n",
    "        #mala crka\n",
    "        sum_crke += ord(crka) - 96\n",
    "    else:\n",
    "        sum_crke += ord(crka) - 38\n",
    "        \n",
    "print(sum_crke)"
   ]
  },
  {
   "cell_type": "code",
   "execution_count": null,
   "id": "0ced7d8f",
   "metadata": {},
   "outputs": [],
   "source": []
  }
 ],
 "metadata": {
  "kernelspec": {
   "display_name": "Python 3 (ipykernel)",
   "language": "python",
   "name": "python3"
  },
  "language_info": {
   "codemirror_mode": {
    "name": "ipython",
    "version": 3
   },
   "file_extension": ".py",
   "mimetype": "text/x-python",
   "name": "python",
   "nbconvert_exporter": "python",
   "pygments_lexer": "ipython3",
   "version": "3.9.12"
  }
 },
 "nbformat": 4,
 "nbformat_minor": 5
}
